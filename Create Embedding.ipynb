{
 "cells": [
  {
   "cell_type": "code",
   "execution_count": 1,
   "id": "e7eba1d8",
   "metadata": {},
   "outputs": [],
   "source": [
    "from __future__ import print_function\n",
    " \n",
    "# Ignore warnings dari gensim\n",
    "import warnings\n",
    "warnings.filterwarnings(action='ignore', category=UserWarning, module='gensim')\n",
    " \n",
    "import logging\n",
    "import os.path\n",
    "import sys\n",
    " \n",
    "from gensim.corpora import WikiCorpus"
   ]
  },
  {
   "cell_type": "code",
   "execution_count": 2,
   "id": "6126779c",
   "metadata": {},
   "outputs": [
    {
     "name": "stderr",
     "output_type": "stream",
     "text": [
      "2023-05-07 13:03:04,385: INFO: running C:\\Users\\ASUS\\AppData\\Roaming\\Python\\Python310\\site-packages\\ipykernel_launcher.py --ip=127.0.0.1 --stdin=9013 --control=9006 --hb=9005 --Session.signature_scheme=\"hmac-sha256\" --Session.key=b\"939182c2-9002-43fd-aab4-fddd222c4cfc\" --shell=9007 --transport=\"tcp\" --iopub=9014 --f=c:\\Users\\ASUS\\AppData\\Roaming\\jupyter\\runtime\\kernel-v2-159000FmJnB1C7Yss.json\n"
     ]
    }
   ],
   "source": [
    "program = os.path.basename(sys.argv[0])\n",
    "logger = logging.getLogger(program)\n",
    " \n",
    "logging.basicConfig(format='%(asctime)s: %(levelname)s: %(message)s')\n",
    "logging.root.setLevel(level=logging.INFO)\n",
    "logger.info(\"running %s\" % ' '.join(sys.argv))\n",
    " \n",
    "namaFileInput = \"idwiki-latest-pages-articles.xml.bz2\"\n",
    "namaFileOutput = \"wiki_id.txt\"\n",
    " \n",
    "space = \" \"\n",
    "i = 0\n",
    " \n",
    "# Write file ke variabel namaFileOutput encoder utf-8\n",
    "output = open(namaFileOutput, 'w', encoding='utf-8')"
   ]
  },
  {
   "cell_type": "code",
   "execution_count": 3,
   "id": "fcde8248",
   "metadata": {},
   "outputs": [
    {
     "name": "stderr",
     "output_type": "stream",
     "text": [
      "2023-05-07 13:05:08,741: INFO: Saved 10000 articles\n",
      "2023-05-07 13:06:22,724: INFO: Saved 20000 articles\n",
      "2023-05-07 13:07:31,486: INFO: Saved 30000 articles\n",
      "2023-05-07 13:08:34,317: INFO: Saved 40000 articles\n",
      "2023-05-07 13:09:42,327: INFO: Saved 50000 articles\n",
      "2023-05-07 13:10:44,988: INFO: Saved 60000 articles\n",
      "2023-05-07 13:11:47,769: INFO: Saved 70000 articles\n",
      "2023-05-07 13:12:49,490: INFO: Saved 80000 articles\n",
      "2023-05-07 13:14:12,869: INFO: Saved 90000 articles\n",
      "2023-05-07 13:15:20,531: INFO: Saved 100000 articles\n",
      "2023-05-07 13:16:18,006: INFO: Saved 110000 articles\n",
      "2023-05-07 13:17:09,490: INFO: Saved 120000 articles\n",
      "2023-05-07 13:18:27,600: INFO: Saved 130000 articles\n",
      "2023-05-07 13:19:30,970: INFO: Saved 140000 articles\n",
      "2023-05-07 13:20:03,077: INFO: Saved 150000 articles\n",
      "2023-05-07 13:20:14,926: INFO: Saved 160000 articles\n",
      "2023-05-07 13:20:28,069: INFO: Saved 170000 articles\n",
      "2023-05-07 13:20:38,770: INFO: Saved 180000 articles\n",
      "2023-05-07 13:20:50,646: INFO: Saved 190000 articles\n",
      "2023-05-07 13:21:01,502: INFO: Saved 200000 articles\n",
      "2023-05-07 13:21:13,642: INFO: Saved 210000 articles\n",
      "2023-05-07 13:21:24,983: INFO: Saved 220000 articles\n",
      "2023-05-07 13:21:35,168: INFO: Saved 230000 articles\n",
      "2023-05-07 13:21:44,898: INFO: Saved 240000 articles\n",
      "2023-05-07 13:21:57,562: INFO: Saved 250000 articles\n",
      "2023-05-07 13:22:59,936: INFO: Saved 260000 articles\n",
      "2023-05-07 13:23:55,226: INFO: Saved 270000 articles\n",
      "2023-05-07 13:24:56,625: INFO: Saved 280000 articles\n",
      "2023-05-07 13:26:07,000: INFO: Saved 290000 articles\n",
      "2023-05-07 13:27:10,929: INFO: Saved 300000 articles\n",
      "2023-05-07 13:28:20,199: INFO: Saved 310000 articles\n",
      "2023-05-07 13:30:46,004: INFO: Saved 320000 articles\n",
      "2023-05-07 13:32:19,661: INFO: Saved 330000 articles\n",
      "2023-05-07 13:33:38,296: INFO: Saved 340000 articles\n",
      "2023-05-07 13:34:54,870: INFO: Saved 350000 articles\n",
      "2023-05-07 13:36:14,083: INFO: Saved 360000 articles\n",
      "2023-05-07 13:37:36,384: INFO: Saved 370000 articles\n",
      "2023-05-07 13:39:44,003: INFO: Saved 380000 articles\n",
      "2023-05-07 13:41:05,802: INFO: Saved 390000 articles\n",
      "2023-05-07 13:42:22,888: INFO: Saved 400000 articles\n",
      "2023-05-07 13:43:33,140: INFO: Saved 410000 articles\n",
      "2023-05-07 13:44:57,629: INFO: Saved 420000 articles\n",
      "2023-05-07 13:46:15,860: INFO: Saved 430000 articles\n",
      "2023-05-07 13:47:30,488: INFO: Saved 440000 articles\n",
      "2023-05-07 13:48:46,615: INFO: Saved 450000 articles\n",
      "2023-05-07 13:50:43,593: INFO: Saved 460000 articles\n",
      "2023-05-07 13:52:23,788: INFO: Saved 470000 articles\n",
      "2023-05-07 13:53:51,058: INFO: Saved 480000 articles\n",
      "2023-05-07 13:54:16,330: INFO: finished iterating over Wikipedia corpus of 483518 documents with 143440326 positions (total 1587753 articles, 150650629 positions before pruning articles shorter than 50 words)\n",
      "2023-05-07 13:54:16,419: INFO: Finished Saved 483518 articles\n"
     ]
    }
   ],
   "source": [
    "wiki = WikiCorpus(namaFileInput, dictionary={}, lower=True)\n",
    "for text in wiki.get_texts():\n",
    "    output.write(' '.join(text) + '\\n')\n",
    "    i = i + 1\n",
    "    if i % 10000 == 0:\n",
    "        logger.info(\"Saved \" + str(i) + \" articles\")\n",
    " \n",
    "output.close()\n",
    "logger.info(\"Finished Saved \" + str(i) + \" articles\")"
   ]
  },
  {
   "cell_type": "code",
   "execution_count": null,
   "id": "8b0f94c7",
   "metadata": {},
   "outputs": [],
   "source": []
  }
 ],
 "metadata": {
  "kernelspec": {
   "display_name": "Python 3 (ipykernel)",
   "language": "python",
   "name": "python3"
  },
  "language_info": {
   "codemirror_mode": {
    "name": "ipython",
    "version": 3
   },
   "file_extension": ".py",
   "mimetype": "text/x-python",
   "name": "python",
   "nbconvert_exporter": "python",
   "pygments_lexer": "ipython3",
   "version": "3.10.2"
  }
 },
 "nbformat": 4,
 "nbformat_minor": 5
}
